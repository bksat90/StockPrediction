{
  "nbformat": 4,
  "nbformat_minor": 0,
  "metadata": {
    "colab": {
      "provenance": [],
      "gpuType": "T4",
      "authorship_tag": "ABX9TyOvzd8xny+12dY47bbHrZSf",
      "include_colab_link": true
    },
    "kernelspec": {
      "name": "python3",
      "display_name": "Python 3"
    },
    "language_info": {
      "name": "python"
    },
    "accelerator": "GPU"
  },
  "cells": [
    {
      "cell_type": "markdown",
      "metadata": {
        "id": "view-in-github",
        "colab_type": "text"
      },
      "source": [
        "<a href=\"https://colab.research.google.com/github/bksat90/StockPrediction/blob/main/StockPrediction.ipynb\" target=\"_parent\"><img src=\"https://colab.research.google.com/assets/colab-badge.svg\" alt=\"Open In Colab\"/></a>"
      ]
    },
    {
      "cell_type": "code",
      "execution_count": 1,
      "metadata": {
        "id": "VuJ_x_R0INZ0"
      },
      "outputs": [],
      "source": [
        "# import required libraries\n",
        "import numpy as np\n",
        "import pandas as pd\n",
        "import matplotlib.pyplot as plt\n",
        "import yfinance as yf\n",
        "import tensorflow as tf\n",
        "\n",
        "from tensorflow.keras.models import Sequential\n",
        "from tensorflow.keras.preprocessing.sequence import TimeseriesGenerator\n",
        "from tensorflow.keras.layers import LSTM, SimpleRNN, Dense\n",
        "from keras.utils import plot_model\n",
        "from sklearn.preprocessing import MinMaxScaler, StandardScaler"
      ]
    },
    {
      "cell_type": "code",
      "source": [
        "# Fetch stock data from Yahoo Finance\n",
        "ticker = 'IBM'\n",
        "# 2 years data\n",
        "data = yf.download(ticker, start=\"2021-12-01\", end=\"2023-11-30\")\n",
        "\n",
        "# printing the head of the imported data\n",
        "data.head()"
      ],
      "metadata": {
        "colab": {
          "base_uri": "https://localhost:8080/",
          "height": 255
        },
        "id": "oqMhioPiIoYF",
        "outputId": "bf47e2f2-78f2-4ce8-e689-e54086935ea9"
      },
      "execution_count": 2,
      "outputs": [
        {
          "output_type": "stream",
          "name": "stdout",
          "text": [
            "\r[*********************100%%**********************]  1 of 1 completed\n"
          ]
        },
        {
          "output_type": "execute_result",
          "data": {
            "text/plain": [
              "                  Open        High         Low       Close   Adj Close  \\\n",
              "Date                                                                     \n",
              "2021-12-01  118.250000  118.930000  116.849998  116.919998  106.124680   \n",
              "2021-12-02  117.370003  117.980003  116.559998  116.900002  106.106529   \n",
              "2021-12-03  117.360001  119.360001  117.360001  118.839996  107.867409   \n",
              "2021-12-06  119.400002  121.150002  119.400002  119.910004  108.838631   \n",
              "2021-12-07  120.480003  122.080002  120.070000  121.580002  110.354416   \n",
              "\n",
              "             Volume  \n",
              "Date                 \n",
              "2021-12-01  5958300  \n",
              "2021-12-02  5267100  \n",
              "2021-12-03  6630100  \n",
              "2021-12-06  4785600  \n",
              "2021-12-07  5194000  "
            ],
            "text/html": [
              "\n",
              "  <div id=\"df-ccf6b0c8-1f47-4222-81fb-dfd7452b07b4\" class=\"colab-df-container\">\n",
              "    <div>\n",
              "<style scoped>\n",
              "    .dataframe tbody tr th:only-of-type {\n",
              "        vertical-align: middle;\n",
              "    }\n",
              "\n",
              "    .dataframe tbody tr th {\n",
              "        vertical-align: top;\n",
              "    }\n",
              "\n",
              "    .dataframe thead th {\n",
              "        text-align: right;\n",
              "    }\n",
              "</style>\n",
              "<table border=\"1\" class=\"dataframe\">\n",
              "  <thead>\n",
              "    <tr style=\"text-align: right;\">\n",
              "      <th></th>\n",
              "      <th>Open</th>\n",
              "      <th>High</th>\n",
              "      <th>Low</th>\n",
              "      <th>Close</th>\n",
              "      <th>Adj Close</th>\n",
              "      <th>Volume</th>\n",
              "    </tr>\n",
              "    <tr>\n",
              "      <th>Date</th>\n",
              "      <th></th>\n",
              "      <th></th>\n",
              "      <th></th>\n",
              "      <th></th>\n",
              "      <th></th>\n",
              "      <th></th>\n",
              "    </tr>\n",
              "  </thead>\n",
              "  <tbody>\n",
              "    <tr>\n",
              "      <th>2021-12-01</th>\n",
              "      <td>118.250000</td>\n",
              "      <td>118.930000</td>\n",
              "      <td>116.849998</td>\n",
              "      <td>116.919998</td>\n",
              "      <td>106.124680</td>\n",
              "      <td>5958300</td>\n",
              "    </tr>\n",
              "    <tr>\n",
              "      <th>2021-12-02</th>\n",
              "      <td>117.370003</td>\n",
              "      <td>117.980003</td>\n",
              "      <td>116.559998</td>\n",
              "      <td>116.900002</td>\n",
              "      <td>106.106529</td>\n",
              "      <td>5267100</td>\n",
              "    </tr>\n",
              "    <tr>\n",
              "      <th>2021-12-03</th>\n",
              "      <td>117.360001</td>\n",
              "      <td>119.360001</td>\n",
              "      <td>117.360001</td>\n",
              "      <td>118.839996</td>\n",
              "      <td>107.867409</td>\n",
              "      <td>6630100</td>\n",
              "    </tr>\n",
              "    <tr>\n",
              "      <th>2021-12-06</th>\n",
              "      <td>119.400002</td>\n",
              "      <td>121.150002</td>\n",
              "      <td>119.400002</td>\n",
              "      <td>119.910004</td>\n",
              "      <td>108.838631</td>\n",
              "      <td>4785600</td>\n",
              "    </tr>\n",
              "    <tr>\n",
              "      <th>2021-12-07</th>\n",
              "      <td>120.480003</td>\n",
              "      <td>122.080002</td>\n",
              "      <td>120.070000</td>\n",
              "      <td>121.580002</td>\n",
              "      <td>110.354416</td>\n",
              "      <td>5194000</td>\n",
              "    </tr>\n",
              "  </tbody>\n",
              "</table>\n",
              "</div>\n",
              "    <div class=\"colab-df-buttons\">\n",
              "\n",
              "  <div class=\"colab-df-container\">\n",
              "    <button class=\"colab-df-convert\" onclick=\"convertToInteractive('df-ccf6b0c8-1f47-4222-81fb-dfd7452b07b4')\"\n",
              "            title=\"Convert this dataframe to an interactive table.\"\n",
              "            style=\"display:none;\">\n",
              "\n",
              "  <svg xmlns=\"http://www.w3.org/2000/svg\" height=\"24px\" viewBox=\"0 -960 960 960\">\n",
              "    <path d=\"M120-120v-720h720v720H120Zm60-500h600v-160H180v160Zm220 220h160v-160H400v160Zm0 220h160v-160H400v160ZM180-400h160v-160H180v160Zm440 0h160v-160H620v160ZM180-180h160v-160H180v160Zm440 0h160v-160H620v160Z\"/>\n",
              "  </svg>\n",
              "    </button>\n",
              "\n",
              "  <style>\n",
              "    .colab-df-container {\n",
              "      display:flex;\n",
              "      gap: 12px;\n",
              "    }\n",
              "\n",
              "    .colab-df-convert {\n",
              "      background-color: #E8F0FE;\n",
              "      border: none;\n",
              "      border-radius: 50%;\n",
              "      cursor: pointer;\n",
              "      display: none;\n",
              "      fill: #1967D2;\n",
              "      height: 32px;\n",
              "      padding: 0 0 0 0;\n",
              "      width: 32px;\n",
              "    }\n",
              "\n",
              "    .colab-df-convert:hover {\n",
              "      background-color: #E2EBFA;\n",
              "      box-shadow: 0px 1px 2px rgba(60, 64, 67, 0.3), 0px 1px 3px 1px rgba(60, 64, 67, 0.15);\n",
              "      fill: #174EA6;\n",
              "    }\n",
              "\n",
              "    .colab-df-buttons div {\n",
              "      margin-bottom: 4px;\n",
              "    }\n",
              "\n",
              "    [theme=dark] .colab-df-convert {\n",
              "      background-color: #3B4455;\n",
              "      fill: #D2E3FC;\n",
              "    }\n",
              "\n",
              "    [theme=dark] .colab-df-convert:hover {\n",
              "      background-color: #434B5C;\n",
              "      box-shadow: 0px 1px 3px 1px rgba(0, 0, 0, 0.15);\n",
              "      filter: drop-shadow(0px 1px 2px rgba(0, 0, 0, 0.3));\n",
              "      fill: #FFFFFF;\n",
              "    }\n",
              "  </style>\n",
              "\n",
              "    <script>\n",
              "      const buttonEl =\n",
              "        document.querySelector('#df-ccf6b0c8-1f47-4222-81fb-dfd7452b07b4 button.colab-df-convert');\n",
              "      buttonEl.style.display =\n",
              "        google.colab.kernel.accessAllowed ? 'block' : 'none';\n",
              "\n",
              "      async function convertToInteractive(key) {\n",
              "        const element = document.querySelector('#df-ccf6b0c8-1f47-4222-81fb-dfd7452b07b4');\n",
              "        const dataTable =\n",
              "          await google.colab.kernel.invokeFunction('convertToInteractive',\n",
              "                                                    [key], {});\n",
              "        if (!dataTable) return;\n",
              "\n",
              "        const docLinkHtml = 'Like what you see? Visit the ' +\n",
              "          '<a target=\"_blank\" href=https://colab.research.google.com/notebooks/data_table.ipynb>data table notebook</a>'\n",
              "          + ' to learn more about interactive tables.';\n",
              "        element.innerHTML = '';\n",
              "        dataTable['output_type'] = 'display_data';\n",
              "        await google.colab.output.renderOutput(dataTable, element);\n",
              "        const docLink = document.createElement('div');\n",
              "        docLink.innerHTML = docLinkHtml;\n",
              "        element.appendChild(docLink);\n",
              "      }\n",
              "    </script>\n",
              "  </div>\n",
              "\n",
              "\n",
              "<div id=\"df-959c8ca9-dc50-4149-9c3e-17f9e411628a\">\n",
              "  <button class=\"colab-df-quickchart\" onclick=\"quickchart('df-959c8ca9-dc50-4149-9c3e-17f9e411628a')\"\n",
              "            title=\"Suggest charts\"\n",
              "            style=\"display:none;\">\n",
              "\n",
              "<svg xmlns=\"http://www.w3.org/2000/svg\" height=\"24px\"viewBox=\"0 0 24 24\"\n",
              "     width=\"24px\">\n",
              "    <g>\n",
              "        <path d=\"M19 3H5c-1.1 0-2 .9-2 2v14c0 1.1.9 2 2 2h14c1.1 0 2-.9 2-2V5c0-1.1-.9-2-2-2zM9 17H7v-7h2v7zm4 0h-2V7h2v10zm4 0h-2v-4h2v4z\"/>\n",
              "    </g>\n",
              "</svg>\n",
              "  </button>\n",
              "\n",
              "<style>\n",
              "  .colab-df-quickchart {\n",
              "      --bg-color: #E8F0FE;\n",
              "      --fill-color: #1967D2;\n",
              "      --hover-bg-color: #E2EBFA;\n",
              "      --hover-fill-color: #174EA6;\n",
              "      --disabled-fill-color: #AAA;\n",
              "      --disabled-bg-color: #DDD;\n",
              "  }\n",
              "\n",
              "  [theme=dark] .colab-df-quickchart {\n",
              "      --bg-color: #3B4455;\n",
              "      --fill-color: #D2E3FC;\n",
              "      --hover-bg-color: #434B5C;\n",
              "      --hover-fill-color: #FFFFFF;\n",
              "      --disabled-bg-color: #3B4455;\n",
              "      --disabled-fill-color: #666;\n",
              "  }\n",
              "\n",
              "  .colab-df-quickchart {\n",
              "    background-color: var(--bg-color);\n",
              "    border: none;\n",
              "    border-radius: 50%;\n",
              "    cursor: pointer;\n",
              "    display: none;\n",
              "    fill: var(--fill-color);\n",
              "    height: 32px;\n",
              "    padding: 0;\n",
              "    width: 32px;\n",
              "  }\n",
              "\n",
              "  .colab-df-quickchart:hover {\n",
              "    background-color: var(--hover-bg-color);\n",
              "    box-shadow: 0 1px 2px rgba(60, 64, 67, 0.3), 0 1px 3px 1px rgba(60, 64, 67, 0.15);\n",
              "    fill: var(--button-hover-fill-color);\n",
              "  }\n",
              "\n",
              "  .colab-df-quickchart-complete:disabled,\n",
              "  .colab-df-quickchart-complete:disabled:hover {\n",
              "    background-color: var(--disabled-bg-color);\n",
              "    fill: var(--disabled-fill-color);\n",
              "    box-shadow: none;\n",
              "  }\n",
              "\n",
              "  .colab-df-spinner {\n",
              "    border: 2px solid var(--fill-color);\n",
              "    border-color: transparent;\n",
              "    border-bottom-color: var(--fill-color);\n",
              "    animation:\n",
              "      spin 1s steps(1) infinite;\n",
              "  }\n",
              "\n",
              "  @keyframes spin {\n",
              "    0% {\n",
              "      border-color: transparent;\n",
              "      border-bottom-color: var(--fill-color);\n",
              "      border-left-color: var(--fill-color);\n",
              "    }\n",
              "    20% {\n",
              "      border-color: transparent;\n",
              "      border-left-color: var(--fill-color);\n",
              "      border-top-color: var(--fill-color);\n",
              "    }\n",
              "    30% {\n",
              "      border-color: transparent;\n",
              "      border-left-color: var(--fill-color);\n",
              "      border-top-color: var(--fill-color);\n",
              "      border-right-color: var(--fill-color);\n",
              "    }\n",
              "    40% {\n",
              "      border-color: transparent;\n",
              "      border-right-color: var(--fill-color);\n",
              "      border-top-color: var(--fill-color);\n",
              "    }\n",
              "    60% {\n",
              "      border-color: transparent;\n",
              "      border-right-color: var(--fill-color);\n",
              "    }\n",
              "    80% {\n",
              "      border-color: transparent;\n",
              "      border-right-color: var(--fill-color);\n",
              "      border-bottom-color: var(--fill-color);\n",
              "    }\n",
              "    90% {\n",
              "      border-color: transparent;\n",
              "      border-bottom-color: var(--fill-color);\n",
              "    }\n",
              "  }\n",
              "</style>\n",
              "\n",
              "  <script>\n",
              "    async function quickchart(key) {\n",
              "      const quickchartButtonEl =\n",
              "        document.querySelector('#' + key + ' button');\n",
              "      quickchartButtonEl.disabled = true;  // To prevent multiple clicks.\n",
              "      quickchartButtonEl.classList.add('colab-df-spinner');\n",
              "      try {\n",
              "        const charts = await google.colab.kernel.invokeFunction(\n",
              "            'suggestCharts', [key], {});\n",
              "      } catch (error) {\n",
              "        console.error('Error during call to suggestCharts:', error);\n",
              "      }\n",
              "      quickchartButtonEl.classList.remove('colab-df-spinner');\n",
              "      quickchartButtonEl.classList.add('colab-df-quickchart-complete');\n",
              "    }\n",
              "    (() => {\n",
              "      let quickchartButtonEl =\n",
              "        document.querySelector('#df-959c8ca9-dc50-4149-9c3e-17f9e411628a button');\n",
              "      quickchartButtonEl.style.display =\n",
              "        google.colab.kernel.accessAllowed ? 'block' : 'none';\n",
              "    })();\n",
              "  </script>\n",
              "</div>\n",
              "    </div>\n",
              "  </div>\n"
            ]
          },
          "metadata": {},
          "execution_count": 2
        }
      ]
    },
    {
      "cell_type": "code",
      "source": [
        "# seperate the close data which will be used for prediction\n",
        "close_data = data['Close'].values.reshape(-1,1)"
      ],
      "metadata": {
        "id": "8ehmfCgaMF52"
      },
      "execution_count": 3,
      "outputs": []
    },
    {
      "cell_type": "code",
      "source": [
        "# preprocessing - rescaling the data\n",
        "scaler = StandardScaler()\n",
        "scaled_data = scaler.fit_transform(close_data)\n",
        "\n",
        "## Creating the time series data structure with structure N * T * D\n",
        "# N = number of samples, T = block/series size = look_back, D = features = 1\n",
        "look_back = 40\n",
        "\n",
        "# 75% data is considered as train data\n",
        "train_size = int(len(scaled_data) * 0.70)\n",
        "train_data = scaled_data[:train_size]\n",
        "test_data = scaled_data[train_size - look_back:]\n",
        "\n",
        "# generates time series data\n",
        "train_generator = TimeseriesGenerator(train_data, train_data,\n",
        "                                     length=look_back, batch_size=20)\n",
        "test_generator = TimeseriesGenerator(test_data, test_data,\n",
        "                                     length=look_back, batch_size=1)"
      ],
      "metadata": {
        "id": "mA4vhBwSJNFM"
      },
      "execution_count": 4,
      "outputs": []
    },
    {
      "cell_type": "code",
      "source": [
        "# builds the LSTM model\n",
        "model = Sequential()\n",
        "model.add(LSTM(units=50, return_sequences=True,\n",
        "                    input_shape=(look_back, 1)))\n",
        "model.add(LSTM(units=100,return_sequences = True))\n",
        "model.add(LSTM(units=100))\n",
        "model.add(Dense(1))"
      ],
      "metadata": {
        "id": "BzE5qz6cLqqa"
      },
      "execution_count": 5,
      "outputs": []
    },
    {
      "cell_type": "code",
      "source": [
        "# display the model summary\n",
        "model.summary()"
      ],
      "metadata": {
        "colab": {
          "base_uri": "https://localhost:8080/"
        },
        "id": "yyLoBD95Sbdq",
        "outputId": "298e409b-ac1e-4e03-8b04-374a81df3b22"
      },
      "execution_count": 6,
      "outputs": [
        {
          "output_type": "stream",
          "name": "stdout",
          "text": [
            "Model: \"sequential\"\n",
            "_________________________________________________________________\n",
            " Layer (type)                Output Shape              Param #   \n",
            "=================================================================\n",
            " lstm (LSTM)                 (None, 40, 50)            10400     \n",
            "                                                                 \n",
            " lstm_1 (LSTM)               (None, 40, 100)           60400     \n",
            "                                                                 \n",
            " lstm_2 (LSTM)               (None, 100)               80400     \n",
            "                                                                 \n",
            " dense (Dense)               (None, 1)                 101       \n",
            "                                                                 \n",
            "=================================================================\n",
            "Total params: 151301 (591.02 KB)\n",
            "Trainable params: 151301 (591.02 KB)\n",
            "Non-trainable params: 0 (0.00 Byte)\n",
            "_________________________________________________________________\n"
          ]
        }
      ]
    },
    {
      "cell_type": "code",
      "source": [
        "# display the model\n",
        "plot_model(model)"
      ],
      "metadata": {
        "colab": {
          "base_uri": "https://localhost:8080/",
          "height": 466
        },
        "id": "TgQcJ6maSiGX",
        "outputId": "cff3e64f-c76c-46ef-dbc4-30a5caec6a6e"
      },
      "execution_count": 7,
      "outputs": [
        {
          "output_type": "execute_result",
          "data": {
            "image/png": "[encoded data removed]",
            "text/plain": [
              "<IPython.core.display.Image object>"
            ]
          },
          "metadata": {},
          "execution_count": 7
        }
      ]
    },
    {
      "cell_type": "code",
      "source": [
        "# compiles the model\n",
        "model.compile(optimizer=tf.keras.optimizers.Adam(learning_rate=0.001),\n",
        "              loss=tf.keras.losses.MeanSquaredError(),\n",
        "              metrics = ['accuracy'])"
      ],
      "metadata": {
        "id": "I4GqSzu1OFWN"
      },
      "execution_count": 8,
      "outputs": []
    },
    {
      "cell_type": "code",
      "source": [
        "# fit the model\n",
        "r = model.fit(train_generator,\n",
        "              validation_data=(test_generator),\n",
        "              epochs=10)"
      ],
      "metadata": {
        "colab": {
          "base_uri": "https://localhost:8080/"
        },
        "id": "QMb6s5hpOQWQ",
        "outputId": "7c10a9ed-6d7d-43e9-b8e5-cddabfa83342"
      },
      "execution_count": 9,
      "outputs": [
        {
          "output_type": "stream",
          "name": "stdout",
          "text": [
            "Epoch 1/10\n",
            "16/16 [==============================] - 19s 126ms/step - loss: 0.5964 - accuracy: 0.0000e+00 - val_loss: 0.4474 - val_accuracy: 0.0000e+00\n",
            "Epoch 2/10\n",
            "16/16 [==============================] - 1s 57ms/step - loss: 0.3330 - accuracy: 0.0000e+00 - val_loss: 0.2952 - val_accuracy: 0.0000e+00\n",
            "Epoch 3/10\n",
            "16/16 [==============================] - 1s 68ms/step - loss: 0.3857 - accuracy: 0.0000e+00 - val_loss: 0.3512 - val_accuracy: 0.0000e+00\n",
            "Epoch 4/10\n",
            "16/16 [==============================] - 2s 100ms/step - loss: 0.3290 - accuracy: 0.0000e+00 - val_loss: 0.2607 - val_accuracy: 0.0000e+00\n",
            "Epoch 5/10\n",
            "16/16 [==============================] - 1s 64ms/step - loss: 0.2842 - accuracy: 0.0000e+00 - val_loss: 0.2475 - val_accuracy: 0.0000e+00\n",
            "Epoch 6/10\n",
            "16/16 [==============================] - 1s 57ms/step - loss: 0.2468 - accuracy: 0.0000e+00 - val_loss: 0.3031 - val_accuracy: 0.0000e+00\n",
            "Epoch 7/10\n",
            "16/16 [==============================] - 1s 56ms/step - loss: 0.2413 - accuracy: 0.0000e+00 - val_loss: 0.1416 - val_accuracy: 0.0000e+00\n",
            "Epoch 8/10\n",
            "16/16 [==============================] - 1s 57ms/step - loss: 0.2095 - accuracy: 0.0000e+00 - val_loss: 0.2363 - val_accuracy: 0.0000e+00\n",
            "Epoch 9/10\n",
            "16/16 [==============================] - 1s 57ms/step - loss: 0.1974 - accuracy: 0.0000e+00 - val_loss: 0.1514 - val_accuracy: 0.0000e+00\n",
            "Epoch 10/10\n",
            "16/16 [==============================] - 1s 56ms/step - loss: 0.1814 - accuracy: 0.0000e+00 - val_loss: 0.1511 - val_accuracy: 0.0000e+00\n"
          ]
        }
      ]
    },
    {
      "cell_type": "code",
      "source": [
        "# plot the loss vs value loss of the model for the training data\n",
        "plt.figure()\n",
        "plt.plot(r.history['loss'], label='loss')\n",
        "plt.plot(r.history['val_loss'], label='val_loss')\n",
        "plt.legend()"
      ],
      "metadata": {
        "colab": {
          "base_uri": "https://localhost:8080/",
          "height": 447
        },
        "id": "Xl3Bu4WfQQlL",
        "outputId": "608f7950-019a-4416-e783-2312da0a2dd4"
      },
      "execution_count": 10,
      "outputs": [
        {
          "output_type": "execute_result",
          "data": {
            "text/plain": [
              "<matplotlib.legend.Legend at 0x78fc6a2aebc0>"
            ]
          },
          "metadata": {},
          "execution_count": 10
        },
        {
          "output_type": "display_data",
          "data": {
            "text/plain": [
              "<Figure size 640x480 with 1 Axes>"
            ],
            "image/png": "[encoded data removed]"
          },
          "metadata": {}
        }
      ]
    },
    {
      "cell_type": "code",
      "source": [
        "# Predicting on the test data\n",
        "# rnn_predictions = rnn_model.predict(test_generator)\n",
        "data_predictions = model.predict(test_generator)\n",
        "\n",
        "# Invert predictions\n",
        "# rnn_predictions = scaler.inverse_transform(rnn_predictions)\n",
        "data_predictions = scaler.inverse_transform(data_predictions)\n",
        "actual_close_prices = scaler.inverse_transform(test_data[look_back:])"
      ],
      "metadata": {
        "colab": {
          "base_uri": "https://localhost:8080/"
        },
        "id": "Uhc4TUSKToIo",
        "outputId": "2587cdad-60c4-4c1f-9f6e-8b0fce3fe77f"
      },
      "execution_count": 11,
      "outputs": [
        {
          "output_type": "stream",
          "name": "stdout",
          "text": [
            "151/151 [==============================] - 2s 5ms/step\n"
          ]
        }
      ]
    },
    {
      "cell_type": "code",
      "source": [
        "# Plot the data\n",
        "plt.figure()\n",
        "plt.plot(actual_close_prices, color='cyan', label='Actual IBM close stock Price')\n",
        "plt.plot(data_predictions, color='green', label='Predicted IBM stock close price with LSTM')\n",
        "plt.title('IBM Stock Price Prediction')\n",
        "plt.xlabel('IBM')\n",
        "plt.ylabel('IBM Stock Price')\n",
        "plt.legend()\n",
        "plt.show()"
      ],
      "metadata": {
        "colab": {
          "base_uri": "https://localhost:8080/",
          "height": 472
        },
        "id": "vKQRwb29WCe_",
        "outputId": "249020d2-aa25-4e59-d3be-10cdfb23f6d8"
      },
      "execution_count": 12,
      "outputs": [
        {
          "output_type": "display_data",
          "data": {
            "text/plain": [
              "<Figure size 640x480 with 1 Axes>"
            ],
            "image/png": "[encoded data removed]"
          },
          "metadata": {}
        }
      ]
    },
    {
      "cell_type": "code",
      "source": [],
      "metadata": {
        "id": "sVmJqYbAWrkD"
      },
      "execution_count": 12,
      "outputs": []
    }
  ]
}